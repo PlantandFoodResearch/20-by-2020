{
 "cells": [
  {
   "cell_type": "code",
   "execution_count": 1,
   "metadata": {},
   "outputs": [],
   "source": [
    "import datetime as dt\n",
    "import pandas as pd\n",
    "import numpy as np\n",
    "import matplotlib.pyplot as plt\n",
    "import ETFunctions as et\n",
    "pd.options.display.max_rows = 20\n",
    "pd.options.display.max_columns = 999\n",
    "%matplotlib inline"
   ]
  },
  {
   "cell_type": "markdown",
   "metadata": {},
   "source": [
    "### Make some helper functions"
   ]
  },
  {
   "cell_type": "code",
   "execution_count": 2,
   "metadata": {},
   "outputs": [],
   "source": [
    "def MakeLabel(Treat):\n",
    "    label = ''\n",
    "    for level in Treat.index:\n",
    "        label += str(Treat.loc[level]) + ' '\n",
    "    return label\n",
    "\n",
    "def MakeYearIndex(Year):\n",
    "    GraphTreats = GrandIndex.loc[Year,:].dropna(axis=1,how='all')\n",
    "    for Fact in GraphTreats.columns:\n",
    "        if len(GraphTreats.loc[:,Fact].drop_duplicates()) <=1:\n",
    "            GraphTreats.drop(Fact,axis=1,inplace=True)\n",
    "    return GraphTreats\n",
    "\n",
    "def SetLineSymbols(Index):\n",
    "    Colors = ['red','orange','blue','green','black','pink']\n",
    "    Markers = ['o-','s-','^-','*-','+-','x-']\n",
    "    Sizes = [12,10,8,6,4,2]\n",
    "    Demarkers = [Colors, Markers, Sizes]\n",
    "    DemarkerIndex = []\n",
    "    FactorNumber = 0\n",
    "    for Fact in Index.columns:\n",
    "        LevelList = Index.loc[:,Fact].drop_duplicates().values\n",
    "        FactorLevels = LevelList.size\n",
    "        LevelDemarkers = Demarkers[FactorNumber][0:FactorLevels]\n",
    "        LevelPairs = pd.Series(data=LevelDemarkers, index=LevelList)\n",
    "        DemarkerIndex.append(LevelPairs)\n",
    "        FactorNumber +=1\n",
    "    return DemarkerIndex\n",
    "\n",
    "def SetSymbols(Index):\n",
    "    Colors = ['red','orange','blue','green']\n",
    "    Markers = ['o','s','^','*','+','x']\n",
    "    Sizes = [12,10,8,6,4,2]\n",
    "    Demarkers = [Colors, Markers, Sizes]\n",
    "    DemarkerIndex = []\n",
    "    FactorNumber = 0\n",
    "    for Fact in Index.columns:\n",
    "        LevelList = Index.loc[:,Fact].drop_duplicates().values\n",
    "        FactorLevels = LevelList.size\n",
    "        LevelDemarkers = Demarkers[FactorNumber][0:FactorLevels]\n",
    "        LevelPairs = pd.Series(data=LevelDemarkers, index=LevelList)\n",
    "        DemarkerIndex.append(LevelPairs)\n",
    "        FactorNumber +=1\n",
    "    return DemarkerIndex\n",
    "\n",
    "def FindAxisMax(DataArray):\n",
    "    Max = np.percentile(pd.to_numeric(DataArray.dropna()),99)\n",
    "    Exponent = np.power(10,len(str(int(Max))))\n",
    "    return np.ceil(Max/Exponent*10)*Exponent/10\n",
    "\n",
    "def FindAxisMin(DataArray):\n",
    "    Min = np.percentile(pd.to_numeric(DataArray.dropna()),1)\n",
    "    Exponent = np.power(10,len(str(int(Min))))\n",
    "    return np.floor(Min/Exponent*10)*Exponent/10\n",
    "\n",
    "def MakeSingleVariableRegression(XVar,YVar):\n",
    "    Graph = plt.figure(figsize=(10,10))\n",
    "    Yup = FindAxisMax(IndexedData.loc[:,YVar ])\n",
    "    Ylow = FindAxisMin(IndexedData.loc[:,YVar ])\n",
    "    Xup = FindAxisMax(IndexedData.loc[:,XVar ])\n",
    "    Xlow = FindAxisMin(IndexedData.loc[:,XVar ])\n",
    "\n",
    "    pos=1\n",
    "    for Year in YearList:\n",
    "        Ax = Graph.add_subplot(3,2,pos)\n",
    "        Ax.spines['right'].set_visible(False)\n",
    "        Ax.spines['top'].set_visible(False)\n",
    "        plt.tick_params(axis='x', which='both', bottom=True,top=False, labelbottom=True)\n",
    "        plt.tick_params(axis='y', which='both', left=True,right=False, labelbottom=True)\n",
    "        GraphData = IndexedData.loc[IndexedData.YearSown==Year]\n",
    "        GraphTreats = GrandIndex.loc[Year,:].dropna(axis=1,how='all')\n",
    "        for var in GraphTreats.columns:\n",
    "            LevelList = GraphTreats.loc[:,var].drop_duplicates().values\n",
    "            if LevelList.size <= 1:\n",
    "                GraphTreats.drop(var,axis=1,inplace=True)\n",
    "        Demarkers = SetSymbols(GraphTreats)\n",
    "        for Treat in GraphTreats.index:\n",
    "            Filter = GraphData.TrtNum == Treat\n",
    "            XData = GraphData.loc[Filter,XVar]\n",
    "            YData = GraphData.loc[Filter,YVar]\n",
    "            col = Demarkers[0][GraphTreats.loc[Treat][0]]\n",
    "            mark = Demarkers[1][GraphTreats.loc[Treat][1]]\n",
    "            plt.plot(XData,YData,mark,color=col,markersize=12)\n",
    "            plt.plot([Xlow,Xup],[Ylow,Yup],'--',color='k')\n",
    "            plt.title(Year,fontsize = 20)\n",
    "        plt.ylim(Ylow,Yup)\n",
    "        plt.xlim(Xlow,Xup)\n",
    "        Ax.set_xticks([Ax.get_xticks()[0],Ax.get_xticks()[-1]])\n",
    "        Ax.set_yticks([Ax.get_yticks()[1],Ax.get_yticks()[-1]])\n",
    "        if pos in [1,3]:\n",
    "            plt.ylabel(YVar,fontsize=16)\n",
    "        if pos in [2,3]:\n",
    "            plt.xlabel(XVar,fontsize=16)\n",
    "        pos+=1\n",
    "\n",
    "def MakeHarvestVariableGraph(Variable):\n",
    "    Graph = plt.figure(figsize=(10,10))\n",
    "    pos=1\n",
    "    TreatInLabel = pd.Series(index = YearList, data = [[1],[1],[0,2],[0,2],[0,2]])\n",
    "    Yup = FindAxisMax(IndexedData.loc[:,Variable ])\n",
    "    for Year in YearList:\n",
    "        Pannel = Graph.add_subplot(len(YearList),1,pos)\n",
    "        plt.ylim(0,Yup)\n",
    "        plt.tick_params(labelsize=20)\n",
    "        Pannel.tick_params(labelbottom=False)\n",
    "        if Year == 2014:\n",
    "            plt.ylabel(Variable, fontsize = 20)\n",
    "        GraphData = pd.to_numeric(IndexedData[GS90Filter].loc[Year,Variable].dropna())\n",
    "        MeanData = GraphData.groupby(GraphData.index.names).mean()\n",
    "        Left = 0\n",
    "        count = 0\n",
    "        LastSowIndex = MeanData.index[count][0]\n",
    "        for Treat in MeanData.index:\n",
    "            SowLab = pd.to_datetime(MeanData.index[count][0]).strftime('%d-%b')\n",
    "            if count == 0:\n",
    "                plt.text(Left+1,Yup*0.9,SowLab,fontsize=18)\n",
    "            if LastSowIndex != MeanData.index[count][0]:\n",
    "                Left+=1\n",
    "                plt.text(Left+1,Yup*0.9,SowLab,fontsize=18)\n",
    "            plt.bar(x=Left+.5,height=MeanData[count],color='lightgrey')\n",
    "            FullLab = MeanData.index[count][1:]\n",
    "            forShort = TreatInLabel[Year]\n",
    "            LabMembers = [FullLab[i] for i in forShort]\n",
    "            Label = ''\n",
    "            for member in LabMembers:\n",
    "                Label += str(member)\n",
    "                Label += '  '\n",
    "            height = MeanData[count] * 0.95\n",
    "            plt.text(Left+.7,height, Label,rotation=90, fontsize=10)\n",
    "            Left += 1\n",
    "            LastSowIndex = MeanData.index[count][0]\n",
    "            count += 1\n",
    "        pos +=1\n",
    "        \n",
    "def MakeTimeCoarseGraph(Year,Variable):\n",
    "    GraphData = Data.loc[Data.YearSown==Year]\n",
    "    GraphTreats = GrandIndex.loc[Year,:].dropna(axis=1,how='all')\n",
    "    for var in GraphTreats.columns:\n",
    "            LevelList = GraphTreats.loc[:,var].drop_duplicates().values\n",
    "            if LevelList.size <= 1:\n",
    "                GraphTreats.drop(var,axis=1,inplace=True)\n",
    "    Demarkers = SetLineSymbols(GraphTreats)\n",
    "    Graph = plt.figure(figsize=(8,6))\n",
    "\n",
    "    for Treat in GraphTreats.index:\n",
    "        Filter = (Data.YearSown == Year) & (Data.TrtNum == Treat)\n",
    "        GraphData = Data.loc[Filter,Variable].dropna().groupby(level='SampleDate').mean()\n",
    "        col = Demarkers[0][GraphTreats.loc[Treat][0]]\n",
    "        mark = Demarkers[1][GraphTreats.loc[Treat][1]]\n",
    "        try:\n",
    "            size = Demarkers[2][GraphTreats.loc[Treat][2]]\n",
    "        except:\n",
    "            size = 8\n",
    "        plt.plot(GraphData,mark,color = col, markersize = size,label = MakeLabel(GraphTreats.loc[Treat,:]))\n",
    "    plt.xticks(rotation=45)\n",
    "    plt.ylabel(Variable,fontsize=12)\n",
    "    plt.tick_params(labelsize=16)\n",
    "    plt.legend(bbox_to_anchor=(1.45, 1),numpoints=1)\n",
    "    \n",
    "def MakeThermalTimeCoarseGraphWithGS(Variable,GSsToGraph,YearsToGraph):\n",
    "    Colors = ['red','orange','blue','green']\n",
    "    Markers = ['o-','s-','^-','*-']\n",
    "    Markers2 = ['o','s','^','*']\n",
    "    Sizes = [12,10,8,6,4,2]\n",
    "    Graph = plt.figure(figsize=(12,16))\n",
    "    YearPos = 0\n",
    "    for Year in YearsToGraph:\n",
    "        filter = Data.loc[:,'YearSown'] == Year\n",
    "        SowDates = pd.to_datetime(Data.loc[filter,'SowingDate'].drop_duplicates().values)\n",
    "        TreatPos = 0\n",
    "        Graph.add_subplot(3,1,YearPos+1)\n",
    "        for Treat in SowDates:\n",
    "            Filter = (Data.YearSown == Year) & (Data.SowingDate == Treat) & (Data.Cultivar == 'Wakanui')  & (Data.PlantPopn==200)\n",
    "            GraphData = pd.to_numeric(Data.loc[Filter,Variable].dropna()).groupby(level='SampleDate').mean()\n",
    "            TtFromSow = pd.to_numeric(Data.loc[Filter,'TtFromSowing'].loc[GraphData.index].dropna()).groupby(level='SampleDate').mean()\n",
    "            plt.plot(TtFromSow,GraphData,Markers[YearPos],color = Colors[TreatPos], markersize = 8)\n",
    "            subfilter = (Data.loc[:,'YearSown'] == Year) & (Data.loc[:,'SowingDate']==Treat)\n",
    "            Date =  Data.loc[subfilter,'GS65'].dropna().drop_duplicates()\n",
    "            if len(GSsToGraph)>0:\n",
    "                TtatSow = Data.loc[subfilter,'TTAtSow'].drop_duplicates()\n",
    "                TTSowTo65 = MetData.loc[Date,'Tt'].values[0]-TtatSow.values[0]\n",
    "                TTSowTo32 = TTSowTo65 - Post32ZadocModel.loc[Post32ZadocModel.Zstage==65,'TTsinceGS32'].values[0]\n",
    "                TTSowTo45 = TTSowTo65 - Post32ZadocModel.loc[Post32ZadocModel.Zstage==45,'TTsinceGS32'].values[0]\n",
    "                plt.plot([TTSowTo32,TTSowTo32],[1.1,0.0],Markers[YearPos],color = Colors[TreatPos], markersize = 8)\n",
    "            TreatPos +=1\n",
    "        YearPos+=1\n",
    "    plt.xticks(rotation=45)\n",
    "    plt.ylabel(Variable,fontsize=12)\n",
    "    plt.tick_params(labelsize=16)\n",
    "    plt.legend(bbox_to_anchor=(1.45, 1),numpoints=1)\n",
    "    \n",
    "def MakeThermalTimeCoarseGraph(Variable,YearsToGraph):\n",
    "    Colors = ['red','orange','blue','green']\n",
    "    Markers = ['o-','s-','^-','*-']\n",
    "    Markers2 = ['o','s','^','*']\n",
    "    Sizes = [12,10,8,6,4,2]\n",
    "    Graph = plt.figure(figsize=(12,16))\n",
    "    YearPos = 0\n",
    "    for Year in YearsToGraph:\n",
    "        GraphData = Data.loc[Data.YearSown==Year]\n",
    "        GraphTreats = MakeYearIndex(Year)\n",
    "        Demarkers = SetLineSymbols(GraphTreats)\n",
    "        filter = Data.loc[:,'YearSown'] == Year\n",
    "        SowDates = pd.to_datetime(Data.loc[filter,'SowingDate'].drop_duplicates().values)\n",
    "        TreatPos = 0\n",
    "        Graph.add_subplot(3,1,YearPos+1)\n",
    "        for Treat in SowDates:\n",
    "            Filter = (Data.YearSown == Year) & (Data.SowingDate == Treat) #& (Data.Cultivar == 'Wakanui')  & (Data.PlantPopn==200)\n",
    "            GraphData = pd.to_numeric(Data.loc[Filter,Variable].dropna()).groupby(level='SampleDate').mean()\n",
    "            TtFromSow = pd.to_numeric(Data.loc[Filter,'TtFromSowing'].loc[GraphData.index].dropna()).groupby(level='SampleDate').mean()\n",
    "            plt.plot(TtFromSow,GraphData,Markers[YearPos],color = Colors[TreatPos], markersize = 8)\n",
    "            subfilter = (Data.loc[:,'YearSown'] == Year) & (Data.loc[:,'SowingDate']==Treat)\n",
    "            TreatPos +=1\n",
    "        YearPos+=1\n",
    "    plt.xticks(rotation=45)\n",
    "    plt.ylabel(Variable,fontsize=12)\n",
    "    plt.tick_params(labelsize=16)\n",
    "    plt.legend(bbox_to_anchor=(1.45, 1),numpoints=1)"
   ]
  },
  {
   "cell_type": "markdown",
   "metadata": {},
   "source": [
    "### Bring in the Crop Data"
   ]
  },
  {
   "cell_type": "code",
   "execution_count": 3,
   "metadata": {},
   "outputs": [
    {
     "ename": "FileNotFoundError",
     "evalue": "[Errno 2] No such file or directory: 'K:\\\\CPDiary\\\\Data\\\\FAR 20by2020\\\\AllData.pkl'",
     "output_type": "error",
     "traceback": [
      "\u001b[1;31m---------------------------------------------------------------------------\u001b[0m",
      "\u001b[1;31mFileNotFoundError\u001b[0m                         Traceback (most recent call last)",
      "\u001b[1;32m<ipython-input-3-015bb3a9dd2a>\u001b[0m in \u001b[0;36m<module>\u001b[1;34m\u001b[0m\n\u001b[0;32m      1\u001b[0m \u001b[1;31m#Data = pd.read_excel('Data compilation updated.xlsx',sheetname='DataCompiled',skiprows=[0,1,2])\u001b[0m\u001b[1;33m\u001b[0m\u001b[1;33m\u001b[0m\u001b[1;33m\u001b[0m\u001b[0m\n\u001b[0;32m      2\u001b[0m \u001b[1;31m#Data.to_pickle('AllData.pkl')\u001b[0m\u001b[1;33m\u001b[0m\u001b[1;33m\u001b[0m\u001b[1;33m\u001b[0m\u001b[0m\n\u001b[1;32m----> 3\u001b[1;33m \u001b[0mData\u001b[0m \u001b[1;33m=\u001b[0m \u001b[0mpd\u001b[0m\u001b[1;33m.\u001b[0m\u001b[0mread_pickle\u001b[0m\u001b[1;33m(\u001b[0m\u001b[1;34m'K:\\CPDiary\\Data\\FAR 20by2020\\AllData.pkl'\u001b[0m\u001b[1;33m)\u001b[0m\u001b[1;33m\u001b[0m\u001b[1;33m\u001b[0m\u001b[0m\n\u001b[0m",
      "\u001b[1;32m~Anaconda\\lib\\site-packages\\pandas\\io\\pickle.py\u001b[0m in \u001b[0;36mread_pickle\u001b[1;34m(filepath_or_buffer, compression)\u001b[0m\n\u001b[0;32m    168\u001b[0m     \u001b[1;32mif\u001b[0m \u001b[1;32mnot\u001b[0m \u001b[0misinstance\u001b[0m\u001b[1;33m(\u001b[0m\u001b[0mfp_or_buf\u001b[0m\u001b[1;33m,\u001b[0m \u001b[0mstr\u001b[0m\u001b[1;33m)\u001b[0m \u001b[1;32mand\u001b[0m \u001b[0mcompression\u001b[0m \u001b[1;33m==\u001b[0m \u001b[1;34m\"infer\"\u001b[0m\u001b[1;33m:\u001b[0m\u001b[1;33m\u001b[0m\u001b[1;33m\u001b[0m\u001b[0m\n\u001b[0;32m    169\u001b[0m         \u001b[0mcompression\u001b[0m \u001b[1;33m=\u001b[0m \u001b[1;32mNone\u001b[0m\u001b[1;33m\u001b[0m\u001b[1;33m\u001b[0m\u001b[0m\n\u001b[1;32m--> 170\u001b[1;33m     \u001b[0mf\u001b[0m\u001b[1;33m,\u001b[0m \u001b[0mfh\u001b[0m \u001b[1;33m=\u001b[0m \u001b[0mget_handle\u001b[0m\u001b[1;33m(\u001b[0m\u001b[0mfp_or_buf\u001b[0m\u001b[1;33m,\u001b[0m \u001b[1;34m\"rb\"\u001b[0m\u001b[1;33m,\u001b[0m \u001b[0mcompression\u001b[0m\u001b[1;33m=\u001b[0m\u001b[0mcompression\u001b[0m\u001b[1;33m,\u001b[0m \u001b[0mis_text\u001b[0m\u001b[1;33m=\u001b[0m\u001b[1;32mFalse\u001b[0m\u001b[1;33m)\u001b[0m\u001b[1;33m\u001b[0m\u001b[1;33m\u001b[0m\u001b[0m\n\u001b[0m\u001b[0;32m    171\u001b[0m \u001b[1;33m\u001b[0m\u001b[0m\n\u001b[0;32m    172\u001b[0m     \u001b[1;31m# 1) try standard library Pickle\u001b[0m\u001b[1;33m\u001b[0m\u001b[1;33m\u001b[0m\u001b[1;33m\u001b[0m\u001b[0m\n",
      "\u001b[1;32m~Anaconda\\lib\\site-packages\\pandas\\io\\common.py\u001b[0m in \u001b[0;36mget_handle\u001b[1;34m(path_or_buf, mode, encoding, compression, memory_map, is_text)\u001b[0m\n\u001b[0;32m    432\u001b[0m         \u001b[1;32melse\u001b[0m\u001b[1;33m:\u001b[0m\u001b[1;33m\u001b[0m\u001b[1;33m\u001b[0m\u001b[0m\n\u001b[0;32m    433\u001b[0m             \u001b[1;31m# Binary mode\u001b[0m\u001b[1;33m\u001b[0m\u001b[1;33m\u001b[0m\u001b[1;33m\u001b[0m\u001b[0m\n\u001b[1;32m--> 434\u001b[1;33m             \u001b[0mf\u001b[0m \u001b[1;33m=\u001b[0m \u001b[0mopen\u001b[0m\u001b[1;33m(\u001b[0m\u001b[0mpath_or_buf\u001b[0m\u001b[1;33m,\u001b[0m \u001b[0mmode\u001b[0m\u001b[1;33m)\u001b[0m\u001b[1;33m\u001b[0m\u001b[1;33m\u001b[0m\u001b[0m\n\u001b[0m\u001b[0;32m    435\u001b[0m         \u001b[0mhandles\u001b[0m\u001b[1;33m.\u001b[0m\u001b[0mappend\u001b[0m\u001b[1;33m(\u001b[0m\u001b[0mf\u001b[0m\u001b[1;33m)\u001b[0m\u001b[1;33m\u001b[0m\u001b[1;33m\u001b[0m\u001b[0m\n\u001b[0;32m    436\u001b[0m \u001b[1;33m\u001b[0m\u001b[0m\n",
      "\u001b[1;31mFileNotFoundError\u001b[0m: [Errno 2] No such file or directory: 'K:\\\\CPDiary\\\\Data\\\\FAR 20by2020\\\\AllData.pkl'"
     ]
    }
   ],
   "source": [
    "#Data = pd.read_excel('Data compilation updated.xlsx',sheetname='DataCompiled',skiprows=[0,1,2])\n",
    "#Data.to_pickle('AllData.pkl')\n",
    "Data = pd.read_pickle('K:\\CPDiary\\Data\\FAR 20by2020\\AllData.pkl')"
   ]
  },
  {
   "cell_type": "markdown",
   "metadata": {},
   "source": [
    "### Set up some index objects"
   ]
  },
  {
   "cell_type": "code",
   "execution_count": null,
   "metadata": {},
   "outputs": [],
   "source": [
    "TreatmentList = Data.TrtNum.drop_duplicates().values\n",
    "print('TreatmentList')\n",
    "print(TreatmentList)\n",
    "YearList = Data.YearSown.drop_duplicates().values\n",
    "print('YearList')\n",
    "print(YearList)\n",
    "Factors = ['Cultivar','SowingDate','PlantPopn','PGRCanopyMgmtTrt']\n",
    "\n",
    "MetaIndex = pd.MultiIndex.from_product([YearList, TreatmentList])\n",
    "GrandIndex = pd.DataFrame(index = MetaIndex, columns = Factors)\n",
    "GrandIndex.sort_index(inplace=True)\n",
    "\n",
    "print('Null Combos')\n",
    "for Year in YearList:\n",
    "    for Treat in TreatmentList:\n",
    "        Filter = (Data.YearSown == Year) & (Data.TrtNum == Treat)\n",
    "        Indicies = Data.loc[Filter,Data.columns.isin(Factors)].drop_duplicates().values\n",
    "        try:\n",
    "            GrandIndex.loc[(Year,Treat)] = Indicies\n",
    "        except:\n",
    "            print((str(Year)+' '+str(Treat)))\n",
    "\n",
    "GrandIndex.dropna(how='all',inplace=True)\n",
    "\n",
    "#for Treat in GrandIndex.index:\n",
    "#    GrandIndex.loc[Treat,'SowingDate'] = GrandIndex.loc[Treat,'SowingDate'].to_datetime()"
   ]
  },
  {
   "cell_type": "markdown",
   "metadata": {},
   "source": [
    "### Make a data frame of zero values on sowing date"
   ]
  },
  {
   "cell_type": "code",
   "execution_count": null,
   "metadata": {},
   "outputs": [],
   "source": [
    "ValuesToZero = ['LeafNum',\n",
    "'NumLeafTips',\n",
    "'NumLigules',\n",
    "'PercentSenescence',\n",
    "'NumGreenLeaves',\n",
    "'NumSenescingLeaves',\n",
    "'NumDeadLeaves',\n",
    "'TotalBiomass',\n",
    "'TotalLeafBiomass',\n",
    "'GreenLeafBiomass',\n",
    "'DeadLeafBiomass',\n",
    "'LAI',\n",
    "'CorrLightInterception',\n",
    "'CorrLAI',\n",
    "'NDVI',\n",
    "'NDVIHC',\n",
    "'WDVI',\n",
    "'NDVISC']\n",
    "\n",
    "ZeroData = pd.DataFrame(index = GrandIndex.index, columns = Data.columns)\n",
    "for treat in ZeroData.index:\n",
    "    ZeroData.loc[treat,'SampleDate'] = GrandIndex.loc[treat,'SowingDate']\n",
    "    ZeroData.loc[treat,'Cultivar'] = GrandIndex.loc[treat,'Cultivar']\n",
    "    ZeroData.loc[treat,'SowingDate'] = GrandIndex.loc[treat,'SowingDate']\n",
    "    ZeroData.loc[treat,'PlantPopn'] = GrandIndex.loc[treat,'PlantPopn']\n",
    "    ZeroData.loc[treat,'PGRCanopyMgmtTrt'] = GrandIndex.loc[treat,'PGRCanopyMgmtTrt']\n",
    "    ZeroData.loc[treat,'YearSown'] = treat[0]\n",
    "    ZeroData.loc[treat,'TrtNum'] = treat[1]\n",
    "    for val in ValuesToZero:\n",
    "        ZeroData.loc[treat,val] = 0.0\n",
    "for val in ValuesToZero:\n",
    "    ZeroData.loc[:,val] = pd.to_numeric(ZeroData.loc[:,val])\n",
    "ZeroData.reset_index(level=[0,1],inplace=True,drop=True)"
   ]
  },
  {
   "cell_type": "markdown",
   "metadata": {},
   "source": [
    "### Join the zero values with the observations and index the data"
   ]
  },
  {
   "cell_type": "code",
   "execution_count": null,
   "metadata": {},
   "outputs": [],
   "source": [
    "Data = Data.append(ZeroData,sort=False)\n",
    "#Data = Data.append(ZeroData2013)\n",
    "Data.set_index('SampleDate',inplace=True,drop=False)\n",
    "Data.sort_values(by='SowingDate',inplace=True)"
   ]
  },
  {
   "cell_type": "markdown",
   "metadata": {},
   "source": [
    "### Add Truncated Sowing date into index and sort"
   ]
  },
  {
   "cell_type": "code",
   "execution_count": null,
   "metadata": {},
   "outputs": [],
   "source": [
    "for Treat in GrandIndex.index:\n",
    "    GrandIndex.loc[Treat,'SowingDate'] = GrandIndex.loc[Treat,'SowingDate'].strftime('%d-%b')\n",
    "\n",
    "TreatmentOrder = ['SowingDate','Cultivar','PlantPopn','PGRCanopyMgmtTrt']\n",
    "GrandIndex = GrandIndex[TreatmentOrder]"
   ]
  },
  {
   "cell_type": "markdown",
   "metadata": {},
   "source": [
    "### Bring in the Met data and calculate a few variables"
   ]
  },
  {
   "cell_type": "code",
   "execution_count": null,
   "metadata": {},
   "outputs": [],
   "source": [
    "MetData = pd.read_csv('.\\Weather\\LincolnClean.met',sep='\\t')\n",
    "MetData.set_index('Date', inplace=True)\n",
    "MetData.index = pd.to_datetime(MetData.index)\n",
    "MetData.loc[:,'MeanT'] = np.divide(np.add(MetData.loc[:,'MinT'],MetData.loc[:,'MaxT']),2)\n",
    "MetData.loc[:,'Tt'] = MetData.loc[:,'MeanT'].cumsum()"
   ]
  },
  {
   "cell_type": "code",
   "execution_count": null,
   "metadata": {},
   "outputs": [],
   "source": [
    "for Year in YearList:\n",
    "    filter = Data.loc[:,'YearSown']==Year\n",
    "    if Year == 2013:\n",
    "        FirstNDVI = dt.datetime(2013,5,28)\n",
    "        LastNDVI = dt.datetime(2013,10,1)\n",
    "        filter2 = filter & ((Data.SampleDate < FirstNDVI) | (Data.SampleDate > LastNDVI))\n",
    "        Data.loc[filter2,'I/Io'] = Data.loc[filter2,'CorrLightInterception']\n",
    "        filter3 = filter & (Data.SampleDate >= FirstNDVI) & (Data.SampleDate <= LastNDVI)\n",
    "        Data.loc[filter3,'I/Io'] = Data.loc[filter3,'NDVISC']\n",
    "    else:\n",
    "        Data.loc[filter,'I/Io'] = Data.loc[filter,'NDVISC']\n",
    "Data.loc[Data.loc[:,'SampleGS']=='GS90','I/Io'] = 0"
   ]
  },
  {
   "cell_type": "markdown",
   "metadata": {},
   "source": [
    "## Calculate Thermal time after sowing for each sampling date"
   ]
  },
  {
   "cell_type": "code",
   "execution_count": null,
   "metadata": {},
   "outputs": [],
   "source": [
    "for Year in YearList:\n",
    "    filter = Data.loc[:,'YearSown'] == Year\n",
    "    SowDates = pd.to_datetime(Data.loc[filter,'SowingDate'].drop_duplicates().values)\n",
    "    for Sow in SowDates:\n",
    "        subfilter = (Data.loc[:,'YearSown'] == Year) & (Data.loc[:,'SowingDate']==Sow)\n",
    "        Data.loc[subfilter,'TTAtSow'] = MetData.loc[Sow,'Tt']        \n",
    "Data.loc[:,'TtAtSample'] = [MetData.loc[X,'Tt'] for X in Data.index]\n",
    "Data.loc[:,'TtFromSowing'] = Data.loc[:,'TtAtSample'] - Data.loc[:,'TTAtSow']"
   ]
  },
  {
   "cell_type": "markdown",
   "metadata": {},
   "source": [
    "### Make a Dataframe for simple biomass model and interpolate Cover values into it"
   ]
  },
  {
   "cell_type": "code",
   "execution_count": null,
   "metadata": {},
   "outputs": [],
   "source": [
    "Graph = plt.figure(figsize=(12,8))\n",
    "VarToInt = 'I/Io'#'NDVISC'\n",
    "InterpolationIndex = pd.MultiIndex.from_product([YearList,TreatmentList,MetData.loc['2013-02-01':].index], names=['year', 'TrtNum', 'Date'])\n",
    "BiomassAnalysis = pd.DataFrame(index = InterpolationIndex, columns=[VarToInt])\n",
    "for Year in [2013,2014,2015,2016,2017]:\n",
    "    YearData = Data.loc[Data.YearSown==Year,:]\n",
    "    YearIndex = GrandIndex.loc[Year,:].dropna(axis=1,how='all')\n",
    "    for Treat in YearIndex.index:\n",
    "        Filter = YearData.TrtNum == Treat\n",
    "        TreatCover = YearData.loc[Filter,VarToInt].dropna().groupby(level='SampleDate').mean()\n",
    "        plt.plot(TreatCover,'o')\n",
    "        Dates = TreatCover.index\n",
    "        ArrayTt = MetData.loc[Dates,'Tt']\n",
    "        InterpDates = MetData.loc[Dates.min():Dates.max()].index\n",
    "        dailyTt = MetData.loc[InterpDates,'Tt']\n",
    "        InterpCover = np.interp(dailyTt,ArrayTt,TreatCover)\n",
    "        TreatIndex = pd.MultiIndex.from_product([[Year],[Treat],InterpDates],names=['Year', 'TrtNum', 'Date'])\n",
    "        InterpDF = pd.DataFrame(index = TreatIndex, data=InterpCover,columns=[VarToInt])\n",
    "        plt.plot(InterpDates, InterpDF.loc[:,VarToInt],'--')\n",
    "        BiomassAnalysis.update(InterpDF)"
   ]
  },
  {
   "cell_type": "markdown",
   "metadata": {},
   "source": [
    "### Implement simple biomass model"
   ]
  },
  {
   "cell_type": "code",
   "execution_count": null,
   "metadata": {},
   "outputs": [],
   "source": [
    "BiomassAnalysis.dropna(inplace=True)\n",
    "BiomassAnalysis.sort_index(inplace=True)\n",
    "for Year in [2013,2014,2015,2016,2017]:\n",
    "    YearData = Data.loc[Data.YearSown==Year,:]\n",
    "    YearIndex = GrandIndex.loc[Year,:].dropna(axis=1,how='all')\n",
    "    for Treat in YearIndex.index:\n",
    "        Rad = MetData.loc[BiomassAnalysis.loc[(Year,Treat),:].index,'Radn']\n",
    "        Temp = MetData.loc[BiomassAnalysis.loc[(Year,Treat),:].index,'MeanT']\n",
    "        BiomassAnalysis.loc[(Year,Treat),'Radn'] = Rad.values\n",
    "        BiomassAnalysis.loc[(Year,Treat),'Temp'] = Temp.values\n",
    "BiomassAnalysis.loc[:,'IntRadn'] = BiomassAnalysis.loc[:,VarToInt] * BiomassAnalysis.loc[:,'Radn']\n",
    "XTemp = [-10,0,15,25,35]\n",
    "YRUE = [0,0,15,15,0]\n",
    "BiomassAnalysis.loc[:,'RUE'] = [np.interp(BiomassAnalysis.loc[x,'Temp'],XTemp,YRUE) for x in BiomassAnalysis.index]\n",
    "BiomassAnalysis.loc[:,'PotDM'] = BiomassAnalysis.loc[:,'RUE'] * BiomassAnalysis.loc[:,'IntRadn']\n",
    "\n",
    "TreatsWithIncompleteRadnData = [(2013,'1b'),(2013,'2b'),(2013,'3b'),\n",
    "                               (2013,'1d'),(2013,'2d'),(2013,'3d'),\n",
    "                                (2013,'2f'),\n",
    "                               (2015,'4d')]\n",
    "for Incomplete in TreatsWithIncompleteRadnData:\n",
    "    BiomassAnalysis.loc[Incomplete,:] = np.nan"
   ]
  },
  {
   "cell_type": "markdown",
   "metadata": {},
   "source": [
    "## Graph Zadoc stage againts TT since sowing for 2014 where we have good data"
   ]
  },
  {
   "cell_type": "code",
   "execution_count": null,
   "metadata": {},
   "outputs": [],
   "source": [
    "Variable = 'ReassessmentGS'\n",
    "MakeThermalTimeCoarseGraph(Variable,[2013,2014])\n",
    "Graph.patch.set_facecolor('white')"
   ]
  },
  {
   "cell_type": "markdown",
   "metadata": {},
   "source": [
    "## Following GS32 the sowing dates appear to have a similar pattern.  The differences in time to GS32 are related to final leaf number and these can be offset.  Lets look at leaf numbers first for 2014 where zadoc data is best\n",
    "\n",
    "### First sow date had 17 leaves, then 15.5, 14.5, and 13 leaves for the final sow date.  All of these leaves will be appearing with a large phyllochron and this many phyllochrons can be removed to align the zadoc data post stage 32 for model fitting."
   ]
  },
  {
   "cell_type": "code",
   "execution_count": null,
   "metadata": {},
   "outputs": [],
   "source": [
    "Colors = ['red','orange','blue','green']\n",
    "Markers = ['o-','s-','^-','*-','>-']\n",
    "Sizes = [12,10,8,6,4,2]\n",
    "Graph = plt.figure(figsize=(8,6))\n",
    "YearPos = 0\n",
    "for Year in YearList:\n",
    "    Filter = Data.loc[:,'YearSown'] == Year\n",
    "    SowDates = pd.to_datetime(Data.loc[Filter,'SowingDate'].drop_duplicates().values)\n",
    "    TreatPos = 0\n",
    "    for Treat in SowDates:\n",
    "        Filter = (Data.YearSown == Year) & (Data.SowingDate == Treat) & (Data.Cultivar == 'Wakanui')  & ((Data.PlantPopn==200) | (Data.PlantPopn==50) |(Data.PlantPopn==150)) & (Data.PGRCanopyMgmtTrt == 'Normal')\n",
    "        GraphData = pd.to_numeric(Data.loc[Filter,'NumLigules'].dropna()).groupby(level='SampleDate').mean()\n",
    "        TtFromSow = pd.to_numeric(Data.loc[Filter,'TtFromSowing'].loc[GraphData.index].dropna()).groupby(level='SampleDate').mean()\n",
    "        plt.plot(TtFromSow,GraphData,Markers[YearPos],color = Colors[TreatPos], markersize = 8,label = str(Treat.day)+'-'+str(Treat.month)+'-'+str(Treat.year))\n",
    "        TreatPos +=1\n",
    "    YearPos+=1\n",
    "plt.xticks(rotation=45)\n",
    "plt.ylabel('Liguales',fontsize=12)\n",
    "plt.xlabel('Tt from sowing')\n",
    "plt.tick_params(labelsize=16)\n",
    "plt.legend(bbox_to_anchor=(1.45, 1),numpoints=1)\n",
    "Graph.patch.set_facecolor('white')"
   ]
  },
  {
   "cell_type": "code",
   "execution_count": null,
   "metadata": {},
   "outputs": [],
   "source": [
    "Data#.loc[:,'NumLigules']"
   ]
  },
  {
   "cell_type": "markdown",
   "metadata": {},
   "source": [
    "### Export ligule data for Pierre"
   ]
  },
  {
   "cell_type": "code",
   "execution_count": null,
   "metadata": {},
   "outputs": [],
   "source": [
    "include = ['SowingDate','TtFromSowing','NumLigules','PlantPopn','Block']\n",
    "Filter = (Data.Cultivar == 'Wakanui')  & ((Data.PlantPopn==200) | (Data.PlantPopn==50) |(Data.PlantPopn==150)) & (Data.PGRCanopyMgmtTrt == 'Normal')\n",
    "LeafData = Data.loc[Filter,include].dropna()\n",
    "plt.plot(LeafData.TtFromSowing,LeafData.NumLigules,'o')\n",
    "LeafData.loc[:,'Year'] = [LeafData.SowingDate[x].year for x in range(LeafData.index.size)]\n",
    "LeafData.to_excel('2020LiguleData.xlsx',sheet_name = 'Ligules',merge_cells=False)\n",
    "MetData.to_excel('2020MetData.xlsx',sheet_name = 'MetData',merge_cells=False,)"
   ]
  },
  {
   "cell_type": "code",
   "execution_count": null,
   "metadata": {},
   "outputs": [],
   "source": [
    "Colors = ['red','orange','blue','green']\n",
    "phyllochron = 180\n",
    "ExtraLeaves = [4,2.5,1.5,0]\n",
    "Offsets = np.multiply(ExtraLeaves,phyllochron)\n",
    "Graph = plt.figure(figsize=(8,6))\n",
    "YearPos = 0\n",
    "filter = Data.loc[:,'YearSown'] == 2014\n",
    "SowDates = pd.to_datetime(Data.loc[filter,'SowingDate'].drop_duplicates().values)\n",
    "TreatPos = 0\n",
    "for Treat in SowDates:\n",
    "    Filter = (Data.YearSown == 2014) & (Data.SowingDate == Treat) \n",
    "    GraphData = pd.to_numeric(Data.loc[Filter,'ReassessmentGS'].dropna()).groupby(level='SampleDate').mean()\n",
    "    TtFromSow = pd.to_numeric(Data.loc[Filter,'TtFromSowing'].loc[GraphData.index].dropna()).groupby(level='SampleDate').mean() \n",
    "    TtFrom32 = np.subtract(TtFromSow, Offsets[TreatPos])\n",
    "    plt.plot(TtFrom32,GraphData,'o',color = Colors[TreatPos], markersize = 8)\n",
    "    TreatPos +=1\n",
    "YearPos+=1\n",
    "plt.xticks(rotation=45)\n",
    "plt.ylabel('Zadoc Stage',fontsize=12)\n",
    "plt.tick_params(labelsize=16)\n",
    "plt.legend(bbox_to_anchor=(1.45, 1),numpoints=1)\n",
    "\n",
    "#Model to quantify development post GS32\n",
    "OffsetTtSowing = [1300, 1640, 1920, 2120, 2420, 2900, 3100]\n",
    "Zstage = [32, 33, 45, 65, 80, 86, 92]\n",
    "\n",
    "plt.plot(OffsetTtSowing,Zstage,'-',color='k',Linewidth=3)\n",
    "\n",
    "ExtraLeaves = [4,2.5,1.5,0]\n",
    "Offsets = np.multiply(ExtraLeaves,phyllochron)\n",
    "YearPos = 0\n",
    "filter = Data.loc[:,'YearSown'] == 2015\n",
    "SowDates = pd.to_datetime(Data.loc[filter,'SowingDate'].drop_duplicates().values)\n",
    "TreatPos = 0\n",
    "for Treat in SowDates:\n",
    "    Filter = (Data.YearSown == 2015) & (Data.SowingDate == Treat) \n",
    "    GraphData = pd.to_numeric(Data.loc[Filter,'ReassessmentGS'].dropna()).groupby(level='SampleDate').mean()\n",
    "    TtFromSow = pd.to_numeric(Data.loc[Filter,'TtFromSowing'].loc[GraphData.index].dropna()).groupby(level='SampleDate').mean() \n",
    "    TtFrom32 = np.subtract(TtFromSow, Offsets[TreatPos])\n",
    "    plt.plot(TtFrom32,GraphData,'s',color = Colors[TreatPos], markersize = 8)\n",
    "    TreatPos +=1\n",
    "YearPos+=1\n",
    "plt.xticks(rotation=45)\n",
    "plt.tick_params(labelsize=16)\n",
    "plt.legend(bbox_to_anchor=(1.45, 1),numpoints=1)\n",
    "\n",
    "ExtraLeaves = [4.5,2,0]\n",
    "Offsets = np.multiply(ExtraLeaves,phyllochron)\n",
    "YearPos = 0\n",
    "filter = Data.loc[:,'YearSown'] == 2013\n",
    "SowDates = pd.to_datetime(Data.loc[filter,'SowingDate'].drop_duplicates().values)\n",
    "TreatPos = 0\n",
    "for Treat in SowDates:\n",
    "    Filter = (Data.YearSown == 2013) & (Data.SowingDate == Treat) \n",
    "    GraphData = pd.to_numeric(Data.loc[Filter,'ReassessmentGS'].dropna()).groupby(level='SampleDate').mean()\n",
    "    TtFromSow = pd.to_numeric(Data.loc[Filter,'TtFromSowing'].loc[GraphData.index].dropna()).groupby(level='SampleDate').mean() \n",
    "    TtFrom32 = np.subtract(TtFromSow, Offsets[TreatPos])\n",
    "    plt.plot(TtFrom32,GraphData,'^',color = Colors[TreatPos], markersize = 8)\n",
    "    TreatPos +=1\n",
    "YearPos+=1\n",
    "plt.xticks(rotation=45)\n",
    "plt.tick_params(labelsize=16)\n",
    "plt.legend(bbox_to_anchor=(1.45, 1),numpoints=1)\n",
    "Graph.patch.set_facecolor('white')"
   ]
  },
  {
   "cell_type": "markdown",
   "metadata": {},
   "source": [
    "### Now we have a model to interpolate zadox stage from a given date, package it into a data frame"
   ]
  },
  {
   "cell_type": "code",
   "execution_count": null,
   "metadata": {},
   "outputs": [],
   "source": [
    "Post32ZadocModel = pd.DataFrame(columns = ['TTsinceGS32','Zstage'])\n",
    "Post32ZadocModel.TTsinceGS32 = np.subtract(OffsetTtSowing,OffsetTtSowing[0])\n",
    "Post32ZadocModel.Zstage = Zstage"
   ]
  },
  {
   "cell_type": "markdown",
   "metadata": {},
   "source": [
    "# Make a dataframe with indexing needed for doing harvest summary and determine crop specific variables"
   ]
  },
  {
   "cell_type": "code",
   "execution_count": null,
   "metadata": {},
   "outputs": [],
   "source": [
    "Index = ['YearSown','SowingDate','Cultivar','PlantPopn','PGRCanopyMgmtTrt','Block']\n",
    "IndexedData = Data.set_index(Index,drop=False)\n",
    "IndexedData.sort_index(inplace=True)\n",
    "#Make filters for selecting specific sample timings\n",
    "GS32Filter = (IndexedData.loc[:,'SampleGS']=='GS32').values\n",
    "GS65Filter = (IndexedData.loc[:,'SampleGS']=='GS65').values\n",
    "GS90Filter = (IndexedData.loc[:,'SampleGS']=='GS90').values\n",
    "#Calculate Anthesis parameters\n",
    "IndexedData.loc[GS90Filter,'AnthesisStem'] = IndexedData.loc[GS65Filter,'StemBiomass']\n",
    "IndexedData.loc[GS90Filter, 'VegetativeBiomass'] = IndexedData.loc[GS32Filter,'TotalBiomass']                                     \n",
    "IndexedData.loc[GS90Filter, 'AnthesisBiomass'] = IndexedData.loc[GS65Filter,'TotalBiomass']                                     \n",
    "IndexedData.loc[GS90Filter,'GrainsPerGramStem'] = IndexedData.loc[GS90Filter,'GrainsMSq']/(IndexedData.loc[GS65Filter,'StemBiomass']/10)\n",
    "IndexedData.loc[GS90Filter,'1000GrainWt0Pc'] = IndexedData.loc[GS90Filter,'ThousandGrainWeight'] * (100-IndexedData.loc[GS90Filter,'GrainMoisture'])/100\n",
    "IndexedData.loc[GS90Filter, 'GS32to65Biomass'] = IndexedData.loc[GS90Filter, 'AnthesisBiomass'] - IndexedData.loc[GS90Filter, 'VegetativeBiomass']\n",
    "IndexedData.index = IndexedData.index.droplevel(5)"
   ]
  },
  {
   "cell_type": "markdown",
   "metadata": {},
   "source": [
    "## Determine exact dates for GS32, 65 and 90 from the Zadoc Tt model defined above"
   ]
  },
  {
   "cell_type": "code",
   "execution_count": null,
   "metadata": {},
   "outputs": [],
   "source": [
    "TTat65 = np.interp(65,Post32ZadocModel.Zstage,Post32ZadocModel.TTsinceGS32)\n",
    "TTat90 = np.interp(90,Post32ZadocModel.Zstage,Post32ZadocModel.TTsinceGS32)\n",
    "TT65to90 = TTat90 - TTat65\n",
    "for plot in IndexedData.loc[GS65Filter].index:\n",
    "    GSAtSample = IndexedData.loc[GS65Filter].loc[plot].ReassessmentGS.mean()\n",
    "    TTatObsDate = np.interp(GSAtSample,Post32ZadocModel.Zstage,Post32ZadocModel.TTsinceGS32)\n",
    "    TTAdjust = TTat65 - TTatObsDate\n",
    "    TTSowTo65 = TTAdjust + IndexedData.loc[GS65Filter].loc[plot].TtFromSowing.mean()\n",
    "    TTSowTo90 = TTSowTo65 + TT65to90\n",
    "    TTSowTo32 = TTSowTo65 - TTat65\n",
    "    AccumTTatSow = IndexedData.loc[GS65Filter].loc[plot].TTAtSow.mean()\n",
    "    AccumTTat32 = AccumTTatSow + TTSowTo32\n",
    "    AccumTTat65 = AccumTTatSow + TTSowTo65\n",
    "    AccumTTat90 = AccumTTatSow + TTSowTo90\n",
    "    Filter = MetData.Tt == min(MetData.Tt, key=lambda x:abs(x-AccumTTat32))\n",
    "    IndexedData.loc[plot,'GS32'] = MetData.loc[Filter].index[0]\n",
    "    IndexedData.loc[plot,'GS32DAS'] = (IndexedData.loc[plot,'GS32'][0] - IndexedData.loc[plot,'GS32'].index.get_level_values(1)[0]).days\n",
    "    Filter = MetData.Tt == min(MetData.Tt, key=lambda x:abs(x-AccumTTat65))\n",
    "    IndexedData.loc[plot,'GS65'] = MetData.loc[Filter].index[0]\n",
    "    IndexedData.loc[plot,'GS65DAS'] = (IndexedData.loc[plot,'GS65'][0] - IndexedData.loc[plot,'GS65'].index.get_level_values(1)[0]).days\n",
    "    Filter = MetData.Tt == min(MetData.Tt, key=lambda x:abs(x-AccumTTat90))\n",
    "    IndexedData.loc[plot,'GS90'] = MetData.loc[Filter].index[0]\n",
    "    IndexedData.loc[plot,'GS90DAS'] = (IndexedData.loc[plot,'GS90'][0] - IndexedData.loc[plot,'GS90'].index.get_level_values(1)[0]).days\n",
    "IndexedData.loc[:,'GS32DAS'] = pd.to_numeric(IndexedData.loc[:,'GS32DAS'])\n",
    "IndexedData.loc[:,'GS65DAS'] = pd.to_numeric(IndexedData.loc[:,'GS65DAS'])\n",
    "IndexedData.loc[:,'GS90DAS'] = pd.to_numeric(IndexedData.loc[:,'GS90DAS'])"
   ]
  },
  {
   "cell_type": "code",
   "execution_count": null,
   "metadata": {},
   "outputs": [],
   "source": [
    "(IndexedData.GS65[0]- IndexedData.index.get_level_values(1)[0]).days"
   ]
  },
  {
   "cell_type": "markdown",
   "metadata": {},
   "source": [
    "### Calculate stage specific met variables"
   ]
  },
  {
   "cell_type": "code",
   "execution_count": null,
   "metadata": {},
   "outputs": [],
   "source": [
    "for Year in YearList:\n",
    "    for Treat in TreatmentList:\n",
    "        try:\n",
    "            StartWinter = dt.datetime(Year,5,1)\n",
    "            filter = (IndexedData.TrtNum == Treat) & (IndexedData.YearSown == Year)\n",
    "            SowDate = IndexedData.loc[filter,'SowingDate'].dropna().drop_duplicates()[0]\n",
    "            GS32Date = IndexedData.loc[filter,'GS32'].dropna().drop_duplicates()[0]\n",
    "            GS65Date = IndexedData.loc[filter,'GS65'].dropna().drop_duplicates()[0]\n",
    "            GS90Date = IndexedData.loc[filter,'GS90'].dropna().drop_duplicates()[0]\n",
    "            RadInt = BiomassAnalysis.loc[(Year,Treat)].loc[SowDate:GS32Date].IntRadn.sum()\n",
    "            Temp = BiomassAnalysis.loc[(Year,Treat)].loc[SowDate:GS32Date].Temp.mean()\n",
    "            TempSum = BiomassAnalysis.loc[(Year,Treat)].loc[SowDate:GS32Date].Temp.sum()\n",
    "            IndexedData.loc[filter,'VegRadn'] = RadInt\n",
    "            IndexedData.loc[filter,'VegTemp'] = Temp\n",
    "            IndexedData.loc[filter,'VegPTQ'] = RadInt/TempSum\n",
    "            RadInt = BiomassAnalysis.loc[(Year,Treat)].loc[GS32Date:GS65Date].IntRadn.sum()\n",
    "            Temp = BiomassAnalysis.loc[(Year,Treat)].loc[GS32Date:GS65Date].Temp.mean()\n",
    "            TempSum = BiomassAnalysis.loc[(Year,Treat)].loc[GS32Date:GS65Date].Temp.sum()\n",
    "            IndexedData.loc[filter,'GrainDevRadn'] = RadInt\n",
    "            IndexedData.loc[filter,'GrainDevTemp'] = Temp\n",
    "            IndexedData.loc[filter,'GrainDevPTQ'] = RadInt/TempSum\n",
    "            RadInt = BiomassAnalysis.loc[(Year,Treat)].loc[GS65Date:GS90Date].IntRadn.sum()\n",
    "            Temp = BiomassAnalysis.loc[(Year,Treat)].loc[GS65Date:GS90Date].Temp.mean()\n",
    "            TempSum = BiomassAnalysis.loc[(Year,Treat)].loc[GS65Date:GS90Date].Temp.sum()\n",
    "            IndexedData.loc[filter,'GrainFillRadn'] = RadInt\n",
    "            IndexedData.loc[filter,'GrainFillTemp'] = Temp\n",
    "            IndexedData.loc[filter,'GrainFillPTQ'] = RadInt/TempSum\n",
    "            RadInt = BiomassAnalysis.loc[(Year,Treat)].loc[StartWinter:GS32Date].IntRadn.sum()\n",
    "            Radn = MetData.Radn.loc[StartWinter:GS32Date].sum()\n",
    "            Temp = MetData.MeanT.loc[StartWinter:GS32Date].mean()\n",
    "            Rain = MetData.Rain.loc[StartWinter:GS32Date].sum()\n",
    "            IndexedData.loc[filter,'WinterRadn'] = RadInt\n",
    "            IndexedData.loc[filter,'WinterRadnTot'] = Radn\n",
    "            IndexedData.loc[filter,'WinterTemp'] = Temp\n",
    "            IndexedData.loc[filter,'WinterRain'] = Rain\n",
    "        except:\n",
    "            print(str(Year)+' '+str(Treat))\n",
    "        "
   ]
  },
  {
   "cell_type": "code",
   "execution_count": null,
   "metadata": {},
   "outputs": [],
   "source": [
    "Describors = ['Block','Cultivar','Farmer','NTrt','PGRCanopyMgmtTrt',\n",
    "              'PGRTrt','Plot','TrialCode','TrialCodePlot','TrtNum',\n",
    "             'YearSown','Location','PGRTiming']"
   ]
  },
  {
   "cell_type": "code",
   "execution_count": null,
   "metadata": {},
   "outputs": [],
   "source": [
    "Describors = ['YearSown','Location','TrtNum','SowingDate',\n",
    "              'PlantPopn','Cultivar','PGRCanopyMgmtTrt']\n",
    "Filter = (Data.PlantPopn==150)&(Data.Cultivar=='Wakanui')&(Data.PGRCanopyMgmtTrt=='Normal')\n",
    "Data.loc[Filter,:].groupby(Describors).mean().loc[:,]\n"
   ]
  },
  {
   "cell_type": "markdown",
   "metadata": {},
   "source": [
    "## Make APSIM Observed File"
   ]
  },
  {
   "cell_type": "code",
   "execution_count": null,
   "metadata": {},
   "outputs": [],
   "source": [
    "listToConvert = ['StemBiomass',\n",
    "                 '1000GrainWt0Pc',\n",
    "                 'ReassessmentGS',\n",
    "                 'Grain0Percent',\n",
    "                 'EarBiomass',\n",
    "                 'ChaffBiomass',\n",
    "                 'GrainsMSq',\n",
    "                 '1000GrainWt0Pc',\n",
    "                 'StemsMSq']\n",
    "for v in listToConvert:\n",
    "    IndexedData.loc[:,v] = pd.to_numeric(IndexedData.loc[:,v])\n"
   ]
  },
  {
   "cell_type": "code",
   "execution_count": null,
   "metadata": {},
   "outputs": [],
   "source": [
    "def MakeSimName(row):\n",
    "    name = ''\n",
    "    if row['YearSown'] == 2013:\n",
    "        name = 'Leeston2013Sow' + row['SowingDate'].strftime(\"%d-%b\") + 'Popn' + str(row['PlantPopn'])\n",
    "        return name\n",
    "    if row['YearSown'] == 2014:\n",
    "        name = 'Leeston2014Sow' + row['SowingDate'].strftime(\"%d-%b\") + 'Popn' + str(row['PlantPopn'])\n",
    "        return name\n",
    "    if row['YearSown'] == 2015:\n",
    "        name = 'Wakanui2015Sow' + row['SowingDate'].strftime(\"%d-%b\") + 'Cm' + str(row['PGRCanopyMgmtTrt'])\n",
    "        return name\n",
    "    if row['YearSown'] == 2016:\n",
    "        name = 'Wakanui2016Sow' + row['SowingDate'].strftime(\"%d-%b\") + 'Cm' + str(row['PGRCanopyMgmtTrt'])\n",
    "        return name\n",
    "    if row['YearSown'] == 2017:\n",
    "        name = 'Wakanui2017Sow' + row['SowingDate'].strftime(\"%d-%b\") + 'Cm' + str(row['PGRCanopyMgmtTrt'])\n",
    "        return name\n",
    "\n",
    "IndexedData.loc[:,'SimulationName'] = ''\n",
    "SimLoc = IndexedData.columns.get_loc('SimulationName')\n",
    "IndexedData.iloc[:,SimLoc] = [MakeSimName(IndexedData.iloc[x,:]) for x in range(IndexedData.index.size)]\n",
    "APSIMFilter = (IndexedData.YearSown == 2013) & (IndexedData.PlantPopn != '100f') & (IndexedData.PGRCanopyMgmtTrt == 'Normal') | \\\n",
    "              (IndexedData.YearSown == 2014) & ((IndexedData.PlantPopn == 50) | (IndexedData.PlantPopn == 200)) & (IndexedData.PGRCanopyMgmtTrt == 'Normal') | \\\n",
    "              (IndexedData.YearSown == 2015) & (IndexedData.Cultivar == 'Wakanui') & (IndexedData.PGRCanopyMgmtTrt == 'Normal') | \\\n",
    "              (IndexedData.YearSown == 2016) & (IndexedData.Cultivar == 'Wakanui') & (IndexedData.PGRCanopyMgmtTrt == 'Normal')| \\\n",
    "              (IndexedData.YearSown == 2017) & (IndexedData.Cultivar == 'Wakanui') & (IndexedData.PGRCanopyMgmtTrt == 'Normal')\n",
    "MeanData = IndexedData.loc[APSIMFilter,:].groupby(by=['SimulationName','SampleDate']).mean()\n",
    "MeanData.reset_index(inplace=True)"
   ]
  },
  {
   "cell_type": "code",
   "execution_count": null,
   "metadata": {},
   "outputs": [],
   "source": [
    "MeanData.loc[:,'FLN'] = np.nan\n",
    "MeanData.loc[:,'Stage'] = ''\n",
    "Sims = MeanData.SimulationName.drop_duplicates()\n",
    "for sim in Sims:\n",
    "    simfilter = MeanData.SimulationName==sim\n",
    "    plt.plot(MeanData.loc[simfilter,'SampleDate'],MeanData.loc[simfilter,'NumLigules'])\n",
    "    NewSeries = pd.Series(index = MeanData.columns,dtype='float64')\n",
    "    NewSeries.SimulationName = sim\n",
    "    NewSeries.FLN = MeanData.loc[simfilter,'NumLigules'].max()\n",
    "    NewSeries.GS32DAS = MeanData.loc[simfilter,'GS32DAS'].iloc[0]\n",
    "    NewSeries.GS65DAS = MeanData.loc[simfilter,'GS65DAS'].iloc[0]\n",
    "    NewSeries.GS90DAS = MeanData.loc[simfilter,'GS90DAS'].iloc[0]\n",
    "    NewSeries.Stage = 'HarvestRipe'\n",
    "    #NewSeries.SampleDate = MeanData.loc[simfilter,'SampleDate'].max()\n",
    "    MeanData = MeanData.append(NewSeries,ignore_index=True)\n",
    "    simfilter = MeanData.SimulationName==sim\n",
    "    plt.plot(MeanData.loc[simfilter,'SampleDate'],MeanData.loc[simfilter,'FLN'],'o',ms=10)"
   ]
  },
  {
   "cell_type": "code",
   "execution_count": null,
   "metadata": {},
   "outputs": [],
   "source": [
    "NameMap = {'SimulationName':'SimulationName',\n",
    "           'SampleDate':'Clock.Today',\n",
    "           'Stage':'Wheat.Phenology.CurrentStageName',\n",
    "           'NumLeafTips':'Wheat.Leaf.AppearedCohortNo',\n",
    "           'NumLigules':'Wheat.Leaf.ExpandedCohortNo',\n",
    "           'FLN':'Wheat.Structure.FinalLeafNumber',\n",
    "           'TotalBiomass':'Wheat.AboveGround.Wt',\n",
    "           'TotalLeafBiomass':'Wheat.Leaf.Wt', \n",
    "           'GreenLeafBiomass':'Wheat.Leaf.Live.Wt',\n",
    "           'DeadLeafBiomass':'Wheat.Leaf.Dead.Wt',\n",
    "           'StemBiomass':'Wheat.Stem.Wt',\n",
    "           'LAI':'Wheat.Leaf.LAI',\n",
    "           'StemsMSq':'Wheat.Structure.TotalStemPopn',\n",
    "           'ReassessmentGS':'Wheat.Phenology.Zadok.Stage',\n",
    "           'Grain0Percent':'Wheat.Grain.Wt',\n",
    "           'EarBiomass':'Wheat.Ear.Wt',\n",
    "           'ChaffBiomass':'Wheat.Spike.Wt',\n",
    "           'GrainsMSq':'Wheat.Grain.Number',\n",
    "           '1000GrainWt0Pc':'Wheat.Grain.Size',\n",
    "           'I/Io':'Wheat.Leaf.CoverTotal',\n",
    "           'GS32DAS':'Wheat.Phenology.TerminalSpikeletDAS',\n",
    "           'GS65DAS':'Wheat.Phenology.FloweringDAS',\n",
    "           'GS90DAS':'Wheat.Phenology.MaturityDAS',\n",
    "           }\n",
    "UsefulVariables = list(NameMap)\n",
    "APSIMExports = MeanData.loc[:,UsefulVariables]\n",
    "APSIMExports.columns = [NameMap[x] for x in UsefulVariables]\n",
    "APSIMExports.where(APSIMExports!=0,np.nan,inplace=True)\n",
    "APSIMExports.to_excel('C:\\\\GitHubRepos\\\\ApsimX\\\\Tests\\\\Validation\\\\Wheat\\\\2020Results.xlsx',sheet_name='Observed',index=False)"
   ]
  },
  {
   "cell_type": "code",
   "execution_count": null,
   "metadata": {},
   "outputs": [],
   "source": [
    "RemoveDataFilter"
   ]
  },
  {
   "cell_type": "code",
   "execution_count": null,
   "metadata": {},
   "outputs": [],
   "source": [
    "RemoveDataFilter = (IndexedData.YearSown == 2016) & (IndexedData.Cultivar == 'Wakanui') & (IndexedData.PGRCanopyMgmtTrt == 'Normal')\n",
    "APSIMExports.loc[RemoveDataFilter.values,:]"
   ]
  },
  {
   "cell_type": "code",
   "execution_count": null,
   "metadata": {},
   "outputs": [],
   "source": [
    "IndexedData.PGRCanopyMgmtTrt"
   ]
  },
  {
   "cell_type": "code",
   "execution_count": null,
   "metadata": {},
   "outputs": [],
   "source": [
    "Variable = 'Grain14Percent'\n",
    "Graph = plt.figure(figsize=(10,10))\n",
    "pos=1\n",
    "TreatInLabel = pd.Series(index = YearList, data = [[1],[1],[0,2],[0,2],[0,2]])\n",
    "Yup = FindAxisMax(IndexedData.loc[:,Variable ])\n",
    "for Year in YearList:\n",
    "    Pannel = Graph.add_subplot(len(YearList),1,pos)\n",
    "    plt.ylim(0,Yup)\n",
    "    plt.tick_params(labelsize=20)\n",
    "    Pannel.tick_params(labelbottom=False)\n",
    "    if Year == 2014:\n",
    "        plt.ylabel(Variable, fontsize = 20)\n",
    "    GraphData = pd.to_numeric(IndexedData[GS90Filter].loc[Year,Variable].dropna())\n",
    "    MeanData = GraphData.groupby(GraphData.index.names).mean()\n",
    "    Left = 0\n",
    "    count = 0\n",
    "    LastSowIndex = MeanData.index[count][0]\n",
    "    for Treat in MeanData.index:\n",
    "        SowLab = pd.to_datetime(MeanData.index[count][0]).strftime('%d-%b')\n",
    "        if count == 0:\n",
    "            plt.text(Left+1,Yup*0.9,SowLab,fontsize=18)\n",
    "        if LastSowIndex != MeanData.index[count][0]:\n",
    "            Left+=1\n",
    "            plt.text(Left+1,Yup*0.9,SowLab,fontsize=18)\n",
    "        plt.bar(x=Left+.5,height=MeanData[count],color='lightgrey')\n",
    "        FullLab = MeanData.index[count][1:]\n",
    "        forShort = TreatInLabel[Year]\n",
    "        LabMembers = [FullLab[i] for i in forShort]\n",
    "        Label = ''\n",
    "        for member in LabMembers:\n",
    "            Label += str(member)\n",
    "            Label += '  '\n",
    "        height = MeanData[count] * 0.95\n",
    "        plt.text(Left+.7,height, Label,rotation=90, fontsize=10)\n",
    "        Left += 1\n",
    "        LastSowIndex = MeanData.index[count][0]\n",
    "        count += 1\n",
    "    pos +=1"
   ]
  },
  {
   "cell_type": "markdown",
   "metadata": {},
   "source": [
    "## Time series graph"
   ]
  },
  {
   "cell_type": "code",
   "execution_count": null,
   "metadata": {},
   "outputs": [],
   "source": [
    "Year = 2014\n",
    "Variable = 'CorrLightInterception'\n",
    "MakeTimeCoarseGraph(Year,Variable)\n",
    "plt.ylim(0,1)"
   ]
  },
  {
   "cell_type": "code",
   "execution_count": null,
   "metadata": {},
   "outputs": [],
   "source": [
    "Year = 2014\n",
    "Variable = 'NDVISC'\n",
    "MakeTimeCoarseGraph(Year,Variable)\n",
    "plt.ylim(0,1)"
   ]
  },
  {
   "cell_type": "code",
   "execution_count": null,
   "metadata": {},
   "outputs": [],
   "source": [
    "Year = 2017\n",
    "Variable = 'I/Io'\n",
    "MakeTimeCoarseGraph(Year,Variable)\n",
    "plt.ylim(0,1)"
   ]
  },
  {
   "cell_type": "markdown",
   "metadata": {},
   "source": [
    "## Biomass model graph"
   ]
  },
  {
   "cell_type": "code",
   "execution_count": null,
   "metadata": {},
   "outputs": [],
   "source": [
    "BiomassAnalysis.loc[2015].iloc[280:,:]"
   ]
  },
  {
   "cell_type": "code",
   "execution_count": null,
   "metadata": {},
   "outputs": [],
   "source": [
    "Year = 2015\n",
    "GraphData = Data.loc[Data.YearSown==Year]\n",
    "GraphTreats = MakeYearIndex(Year)\n",
    "for var in GraphTreats.columns:\n",
    "        LevelList = GraphTreats.loc[:,var].drop_duplicates().values\n",
    "        if LevelList.size <= 1:\n",
    "            GraphTreats.drop(var,axis=1,inplace=True)\n",
    "Demarkers = SetSymbols(GraphTreats)\n",
    "Graph = plt.figure(figsize=(10,7))\n",
    "\n",
    "for Treat in GraphTreats.index:\n",
    "    Filter = (Data.YearSown == Year) & (Data.TrtNum == Treat) & (Data.Cultivar == 'Wakanui')\n",
    "    GraphData = Data.loc[Filter,'TotalBiomass'].dropna().groupby(level='SampleDate').mean()/1000\n",
    "    col = Demarkers[0][GraphTreats.loc[Treat][0]]\n",
    "    mark = Demarkers[1][GraphTreats.loc[Treat][1]]\n",
    "    plt.plot(GraphData,mark,color = col, markersize = 12,label = MakeLabel(GraphTreats.loc[Treat,:]))\n",
    "    Potbiomass = BiomassAnalysis.loc[(Year,Treat),'PotDM'].cumsum()\n",
    "    plt.plot(Potbiomass/1000,'-', color=col)\n",
    "    try:\n",
    "        YieldData = Data.loc[Filter,'Grain14Percent'].dropna().mean()/1000\n",
    "        Date =  Data.loc[Filter,'Grain14Percent'].dropna().index[0]\n",
    "        plt.plot(Date,YieldData,'*',color = col, markersize = 12)\n",
    "    except:\n",
    "        fail = 'yes'\n",
    "MeanYield = Data.loc[(Data.YearSown == Year)&(Data.Cultivar == 'Wakanui'),'Grain14Percent'].dropna().mean()/1000\n",
    "MeanBiomass = Data.loc[(Data.YearSown == Year)&(Data.Cultivar == 'Wakanui')&(Data.SampleGS=='GS90'),'TotalBiomass'].dropna().mean()/1000\n",
    "MeanGrainSize = IndexedData.loc[(IndexedData.YearSown == Year)&(IndexedData.Cultivar == 'Wakanui'),'1000GrainWt0Pc'].dropna().mean()\n",
    "MeanGrainNumber = Data.loc[(Data.YearSown == Year)&(Data.Cultivar == 'Wakanui'),'GrainsMSq'].dropna().mean()\n",
    "MeanHI = Data.loc[(Data.YearSown == Year)&(Data.Cultivar == 'Wakanui'),'HI'].dropna().mean()\n",
    "PlotDate = dt.datetime(Year,3,1)\n",
    "plt.text(PlotDate,23,str(Year)+'\\nMean grain yield = '+'%.2f'%MeanYield + ' t/ha'+\n",
    "         '\\n'+ 'Biomass = ' + '%.2f'%MeanBiomass + ' t/ha' +\n",
    "         '\\n'+ r'Grains/$m^2$ = '+'%.0f'%MeanGrainNumber +\n",
    "         '\\n'+ '1000GrainWt = ' + '%.0f'%MeanGrainSize + ' g'+\n",
    "         '\\n'+ 'HI = '+ '%.2f'%MeanHI,fontsize=18)\n",
    "plt.legend(bbox_to_anchor=(1, -0.3),numpoints=1,ncol=4)\n",
    "plt.xticks(rotation=45)\n",
    "plt.ylim(0,35)\n",
    "plt.tick_params(labelsize=18)\n",
    "plt.ylabel('Total Biomass (t/ha)',fontsize=22)"
   ]
  },
  {
   "cell_type": "code",
   "execution_count": null,
   "metadata": {},
   "outputs": [],
   "source": [
    "Graph = plt.figure(figsize=(20,20))\n",
    "Pos =1\n",
    "for Year in YearList:\n",
    "    Graph.add_subplot(3,2,Pos)\n",
    "    GraphData = Data.loc[Data.YearSown==Year]\n",
    "    GraphTreats = MakeYearIndex(Year)\n",
    "    for var in GraphTreats.columns:\n",
    "        LevelList = GraphTreats.loc[:,var].drop_duplicates().values\n",
    "        if LevelList.size <= 1:\n",
    "            GraphTreats.drop(var,axis=1,inplace=True)\n",
    "    Demarkers = SetSymbols(GraphTreats)\n",
    "    for Treat in GraphTreats.index:\n",
    "        Filter = (Data.YearSown == Year) & (Data.TrtNum == Treat) & (Data.Cultivar == 'Wakanui')\n",
    "        GraphData = Data.loc[Filter,'TotalBiomass'].dropna().groupby(level='SampleDate').mean()/1000\n",
    "        col = Demarkers[0][GraphTreats.loc[Treat][0]]\n",
    "        mark = Demarkers[1][GraphTreats.loc[Treat][1]]\n",
    "        plt.plot(GraphData,mark,color = col, markersize = 12,label = MakeLabel(GraphTreats.loc[Treat,:]))\n",
    "        Potbiomass = BiomassAnalysis.loc[(Year,Treat),'PotDM'].cumsum()\n",
    "        plt.plot(Potbiomass/1000,'-', color=col)\n",
    "        try:\n",
    "            YieldData = Data.loc[Filter,'Grain14Percent'].dropna().mean()/1000\n",
    "            Date =  Data.loc[Filter,'Grain14Percent'].dropna().index[0]\n",
    "            plt.plot(Date,YieldData,'*',color = col, markersize = 12)\n",
    "        except:\n",
    "            fail = 'yes'\n",
    "    MeanYield = Data.loc[(Data.YearSown == Year)&(Data.Cultivar == 'Wakanui'),'Grain14Percent'].dropna().mean()/1000\n",
    "    MeanBiomass = Data.loc[(Data.YearSown == Year)&(Data.Cultivar == 'Wakanui')&(Data.SampleGS=='GS90'),'TotalBiomass'].dropna().mean()/1000\n",
    "    MeanGrainSize = IndexedData.loc[(IndexedData.YearSown == Year)&(IndexedData.Cultivar == 'Wakanui'),'1000GrainWt0Pc'].dropna().mean()\n",
    "    MeanGrainNumber = Data.loc[(Data.YearSown == Year)&(Data.Cultivar == 'Wakanui'),'GrainsMSq'].dropna().mean()\n",
    "    MeanHI = Data.loc[(Data.YearSown == Year)&(Data.Cultivar == 'Wakanui'),'HI'].dropna().mean()\n",
    "    PlotDate = dt.datetime(Year,3,1)\n",
    "    plt.text(PlotDate,20,str(Year)+'\\nMean Yield = '+'%.2f'%MeanYield +\n",
    "             '\\n'+ 'Biomass = ' + '%.2f'%MeanBiomass +\n",
    "             '\\n'+ r'Grains/$m^2$ = '+'%.0f'%MeanGrainNumber +\n",
    "             '\\n'+ '1000Grainwt =' + '%.0f'%MeanGrainSize +\n",
    "             '\\n'+ 'HI = '+ '%.2f'%MeanHI,fontsize=24)\n",
    "    Pos +=1\n",
    "    plt.xticks(rotation=45)\n",
    "    plt.ylim(0,35)\n",
    "    plt.tick_params(labelsize=14)\n",
    "    plt.ylabel('Biomass (t/ha)',fontsize=16)"
   ]
  },
  {
   "cell_type": "markdown",
   "metadata": {},
   "source": [
    "## Harvest Graph"
   ]
  },
  {
   "cell_type": "code",
   "execution_count": null,
   "metadata": {},
   "outputs": [],
   "source": [
    "Variable = 'TotalBiomass'\n",
    "MakeHarvestVariableGraph(Variable)"
   ]
  },
  {
   "cell_type": "markdown",
   "metadata": {},
   "source": [
    "## Harvest correlations"
   ]
  },
  {
   "cell_type": "code",
   "execution_count": null,
   "metadata": {},
   "outputs": [],
   "source": [
    "['GrainsMSq','EarsMSq','StemsMSq','GrainsEar','1000GrainWt0Pc','GrainsPerGramStem',\n",
    " 'TotalBiomass','HI','StemBiomass','StemBiomass','AnthesisBiomass','AnthesisStem']"
   ]
  },
  {
   "cell_type": "code",
   "execution_count": null,
   "metadata": {},
   "outputs": [],
   "source": [
    "YVariable = 'Grain14Percent'\n",
    "ComponentPairs = [['GrainsMSq',YVariable],\n",
    "                  ['EarsMSq',YVariable],\n",
    "                  ['StemsMSq',YVariable],\n",
    "                  ['GrainsEar',YVariable],\n",
    "                  ['1000GrainWt0Pc',YVariable],\n",
    "                  ['GS32to65Biomass',YVariable],\n",
    "                  ['TotalBiomass',YVariable],\n",
    "                  ['HI',YVariable],\n",
    "                  ['StemBiomass',YVariable]]\n",
    "Graph = plt.figure(figsize=(10,10))\n",
    "pos = 1\n",
    "for Component in ComponentPairs:\n",
    "    Ax = Graph.add_subplot(3,3,pos)\n",
    "    Ax.spines['right'].set_visible(False)\n",
    "    Ax.spines['top'].set_visible(False)\n",
    "    plt.tick_params(axis='x', which='both', bottom='on',top='off', labelbottom='on')\n",
    "    plt.tick_params(axis='y', which='both', left='on',right='off', labelbottom='on')\n",
    "    for Year in YearList:\n",
    "        XData = IndexedData.loc[Year,Component[0]]\n",
    "        YData = IndexedData.loc[Year,Component[1]]\n",
    "        plt.plot(XData,YData,'o',label=Year)\n",
    "        #plt.ylabel(Component[1])\n",
    "        plt.title(Component[0])\n",
    "    Ax.set_xticks([Ax.get_xticks()[0],Ax.get_xticks()[-1]])\n",
    "    Ax.set_yticks([Ax.get_yticks()[1],Ax.get_yticks()[-1]])\n",
    "    #Ax.set_xticklabels(['Less','More'])\n",
    "    #Ax.set_yticklabels(['Modest','Jolly Good'])\n",
    "    if pos == 9:\n",
    "        plt.legend(loc=0,numpoints=1)\n",
    "    pos+=1"
   ]
  },
  {
   "cell_type": "code",
   "execution_count": null,
   "metadata": {},
   "outputs": [],
   "source": [
    "Data.to_csv('2020_data.csv')"
   ]
  },
  {
   "cell_type": "markdown",
   "metadata": {},
   "source": [
    "## Met data variables"
   ]
  },
  {
   "cell_type": "code",
   "execution_count": null,
   "metadata": {},
   "outputs": [],
   "source": [
    "YVariable = 'Grain14Percent'\n",
    "ComponentPairs = [['VegRadn',YVariable],\n",
    "                  ['VegTemp',YVariable],\n",
    "                  ['VegPTQ',YVariable],\n",
    "                  ['GrainDevRadn',YVariable],\n",
    "                  ['GrainDevTemp',YVariable],\n",
    "                  ['GrainDevPTQ',YVariable],\n",
    "                  ['GrainFillRadn',YVariable],\n",
    "                  ['GrainFillTemp',YVariable],\n",
    "                  ['GrainFillPTQ',YVariable]]\n",
    "Graph = plt.figure(figsize=(10,10))\n",
    "pos = 1\n",
    "for Component in ComponentPairs:\n",
    "    Ax = Graph.add_subplot(3,3,pos)\n",
    "    Ax.spines['right'].set_visible(False)\n",
    "    Ax.spines['top'].set_visible(False)\n",
    "    plt.tick_params(axis='x', which='both', bottom=True,top=False, labelbottom=True)\n",
    "    plt.tick_params(axis='y', which='both', left=True,right=False, labelbottom=True)\n",
    "    for Year in YearList:\n",
    "        XData = IndexedData.loc[Year,Component[0]]#.groupby(level='SowingDate').mean()\n",
    "        YData = pd.to_numeric(IndexedData.loc[Year,Component[1]])#.groupby(level='SowingDate').mean()\n",
    "        plt.plot(XData,YData,'o',label=Year)\n",
    "        #plt.ylabel(Component[1])\n",
    "        plt.title(Component[0])\n",
    "    Ax.set_xticks([Ax.get_xticks()[0],Ax.get_xticks()[-1]])\n",
    "    Ax.set_yticks([Ax.get_yticks()[1],Ax.get_yticks()[-1]])\n",
    "#     if pos == 9:\n",
    "#         plt.legend(loc=0,numpoints=1)\n",
    "    pos+=1"
   ]
  },
  {
   "cell_type": "code",
   "execution_count": null,
   "metadata": {},
   "outputs": [],
   "source": [
    "ComponentPairs = [['GrainsMSq','Grain14Percent'],\n",
    "                  ['TotalBiomass','Grain14Percent'],\n",
    "                  ['1000GrainWt0Pc','Grain14Percent'],\n",
    "                 ['GrainsPerGramStem','Grain14Percent']]\n",
    "Graph = plt.figure(figsize=(10,10))\n",
    "pos = 1\n",
    "for Component in ComponentPairs:\n",
    "    Ax = Graph.add_subplot(2,2,pos)\n",
    "    Ax.spines['right'].set_visible(False)\n",
    "    Ax.spines['top'].set_visible(False)\n",
    "    plt.tick_params(axis='x', which='both', bottom= True,top= False, labelbottom= True)\n",
    "    plt.tick_params(axis='y', which='both', left= True,right= False, labelbottom= True)\n",
    "    for Year in YearList:\n",
    "        XData = IndexedData.loc[Year,Component[0]]\n",
    "        YData = IndexedData.loc[Year,Component[1]]\n",
    "        plt.plot(XData,YData,'o',label=Year)\n",
    "        #plt.ylabel(Component[1])\n",
    "        plt.title(Component[0])\n",
    "    #Ax.set_xticks([Ax.get_xticks()[0],Ax.get_xticks()[-1]])\n",
    "    #Ax.set_yticks([Ax.get_yticks()[1],Ax.get_yticks()[-1]])\n",
    "    #Ax.set_xticklabels(['Less','More'])\n",
    "    #Ax.set_yticklabels(['Modest','Jolly Good'])\n",
    "    if pos == 1:\n",
    "        plt.legend(loc=0,numpoints=1)\n",
    "        plt.ylabel('Yield (14%moisture)',fontsize = 12)\n",
    "    pos+=1"
   ]
  },
  {
   "cell_type": "code",
   "execution_count": null,
   "metadata": {},
   "outputs": [],
   "source": [
    "Graph = plt.figure(figsize=(10,7))\n",
    "Ax = Graph.add_subplot(1,1,1)\n",
    "Ax.spines['right'].set_visible(False)\n",
    "Ax.spines['top'].set_visible(False)\n",
    "plt.tick_params(axis='x', which='both', bottom=True,top=False, labelbottom=True)\n",
    "plt.tick_params(axis='y', which='both', left=True,right=False, labelbottom=True)\n",
    "for Year in YearList:\n",
    "    XData = IndexedData.loc[Year,'AnthesisBiomass']/10\n",
    "    YData = IndexedData.loc[Year,'GrainsMSq']\n",
    "    plt.plot(XData,YData,'o',label=Year,markersize = 10)\n",
    "    #plt.ylabel(Component[1])\n",
    "    #plt.title(Component[0])\n",
    "plt.legend(loc=0,numpoints=1)\n",
    "plt.ylabel('Grain number (/m2)',fontsize = 22)\n",
    "plt.xlabel('Anthesis Biomass (g/m2)',fontsize = 22)\n",
    "#plt.xlabel(r'$Grains /m^2$',fontsize = 22)\n",
    "plt.tick_params(labelsize=18)\n",
    "#Ax.xaxis.set_ticklabels([15,20,25,30,35,40])\n",
    "#Ax.yaxis.set_ticklabels([4,6,8,10,12,14,16,18,20])\n",
    "plt.plot()"
   ]
  },
  {
   "cell_type": "markdown",
   "metadata": {},
   "source": [
    "## Single variable Harvest correlations"
   ]
  },
  {
   "cell_type": "code",
   "execution_count": null,
   "metadata": {},
   "outputs": [],
   "source": [
    "'GrainsMSq','Grain14Percent','EarsMSq','StemsMSq','GrainsEar',\n",
    "'ThousandGrainWeight','GrainsPerGramStem','TotalBiomass','HI','StemBiomass'"
   ]
  },
  {
   "cell_type": "code",
   "execution_count": null,
   "metadata": {},
   "outputs": [],
   "source": [
    "XVar = 'StemsMSq'\n",
    "YVar = 'GrainsMSq'\n",
    "MakeSingleVariableRegression(XVar,YVar)"
   ]
  },
  {
   "cell_type": "code",
   "execution_count": null,
   "metadata": {},
   "outputs": [],
   "source": [
    "import matplotlib.dates as mdates\n",
    "Variables = ['Grain14Percent','TotalBiomass','HI',\n",
    "             'GrainsMSq','EarsMSq','GrainsEar',\n",
    "             '1000GrainWt0Pc','GS32to65Biomass','StemBiomass']\n",
    "Filter = (IndexedData.PlantPopn==150)&(IndexedData.Cultivar == 'Wakanui')&(IndexedData.PGRCanopyMgmtTrt=='Normal')&(IndexedData.SampleGS=='GS90')\n",
    "Graph = plt.figure(figsize=(10,10))\n",
    "pos = 1\n",
    "for var in Variables:\n",
    "    Ax = Graph.add_subplot(3,3,pos)\n",
    "    Ax.spines['right'].set_visible(False)\n",
    "    Ax.spines['top'].set_visible(False)\n",
    "    plt.tick_params(axis='x', which='both', bottom=True,top=False, labelbottom=True)\n",
    "    plt.tick_params(axis='y', which='both', left=True,right=False, labelbottom=True)\n",
    "    for Year in YearList:\n",
    "        SowDateMeans = pd.DataFrame(pd.to_numeric(IndexedData.loc[Filter,var][Year]).groupby(level='SowingDate').mean())\n",
    "        SowDateMeans.loc[:,'SowJDay'] = [dt.datetime(2010,1,1) + (x - dt.datetime(x.year,1,1)) for x in SowDateMeans.index]\n",
    "        plt.plot(SowDateMeans.SowJDay,SowDateMeans.loc[:,var],'-o',markersize=10,label=Year)\n",
    "    myFmt = mdates.DateFormatter('%d-%b')\n",
    "    Ax.xaxis.set_major_formatter(myFmt)\n",
    "    plt.xlim('2010-02-01','2010-05-01')\n",
    "    Ax.xaxis.set_ticks(['2010-02-01','2010-03-01','2010-04-01','2010-05-01'])\n",
    "    plt.title(var)\n",
    "    if pos == 9:\n",
    "        plt.legend(loc=1,numpoints=1)\n",
    "    pos+=1"
   ]
  },
  {
   "cell_type": "code",
   "execution_count": null,
   "metadata": {},
   "outputs": [],
   "source": [
    "YearList"
   ]
  },
  {
   "cell_type": "code",
   "execution_count": null,
   "metadata": {},
   "outputs": [],
   "source": [
    "def PoolePlot(var,ylab,title,rescale,legpos=4):\n",
    "\n",
    "    import matplotlib.dates as mdates\n",
    "    #var = 'Grain14Percent'#,'TotalBiomass','HI','GS32to65Biomass']\n",
    "    Filter = (IndexedData.PlantPopn==150)&(IndexedData.Cultivar == 'Wakanui')&(IndexedData.PGRCanopyMgmtTrt=='Normal')&(IndexedData.SampleGS=='GS90')\n",
    "    Graph = plt.figure(figsize=(10,12))\n",
    "    pos = 1\n",
    "    Ax = Graph.add_subplot(1,1,1)\n",
    "    Ax.spines['right'].set_visible(False)\n",
    "    Ax.spines['top'].set_visible(False)\n",
    "    plt.tick_params(axis='x', which='both', bottom=True,top=False, labelbottom=True,labelsize=18)\n",
    "    plt.tick_params(axis='y', which='both', left=True,right=False, labelbottom=True,labelsize=18)\n",
    "    cols = ['k','w']\n",
    "    mar = ['o-','^-']\n",
    "    pos=0\n",
    "    for Year in [2014, 2015]:\n",
    "        SowDateMeans = pd.DataFrame(pd.to_numeric(IndexedData.loc[Filter,var][Year]).groupby(level='SowingDate').mean())\n",
    "        SowDateMeans.loc[:,'SowJDay'] = [dt.datetime(2010,1,1) + (x - dt.datetime(x.year,1,1)) for x in SowDateMeans.index]\n",
    "        plt.plot(SowDateMeans.SowJDay,SowDateMeans.loc[:,var]/rescale,\n",
    "                 mar[pos],c='k',mfc=cols[pos],markersize=15,label=Year)\n",
    "        pos +=1\n",
    "    myFmt = mdates.DateFormatter('%d-%b')\n",
    "    Ax.xaxis.set_major_formatter(myFmt)\n",
    "    plt.xlim('2010-02-01','2010-05-01')\n",
    "    Ax.xaxis.set_ticks(['2010-02-01','2010-03-01','2010-04-01','2010-05-01'])\n",
    "    plt.title(title,fontsize=22)\n",
    "    plt.legend(loc=legpos,numpoints=1,fontsize=18)\n",
    "    plt.ylabel(ylab,fontsize=20)\n",
    "    Graph.savefig(var+'.jpg',dpi=1000)\n",
    "    \n",
    "PoolePlot('Grain14Percent','Yield (t/ha)','Grain Yield (14%)',1000) #var = 'Grain14Percent'#,'TotalBiomass','HI','GS32to65Biomass']\n",
    "PoolePlot('TotalBiomass','Biomass (t/ha)','Biomass',1000) \n",
    "PoolePlot('HI','Harvest Index','HarvestIndex',1) \n",
    "PoolePlot('GS32to65Biomass','Biomass (t/ha)','Stem Extension Growth',1000,legpos=2) "
   ]
  },
  {
   "cell_type": "code",
   "execution_count": null,
   "metadata": {},
   "outputs": [],
   "source": [
    "Graph = plt.figure(figsize=(10,7))\n",
    "import matplotlib.dates as mdates\n",
    "\n",
    "Filter = (IndexedData.PlantPopn==150)&(IndexedData.Cultivar == 'Wakanui')&(IndexedData.PGRCanopyMgmtTrt=='Normal')&(IndexedData.SampleGS=='GS90')\n",
    "SowDateMeans = pd.DataFrame(pd.to_numeric(IndexedData.loc[Filter,'HI']).groupby(level='SowingDate').mean())\n",
    "SowDateMeans.loc[:,'SowJDay'] = [dt.datetime(2010,1,1) + (x - dt.datetime(x.year,1,1)) for x in SowDateMeans.index]\n",
    "#SowDateMeans.index.strftime('%d-%b')\n",
    "ax = Graph.add_subplot(1,1,1)\n",
    "plt.plot(SowDateMeans.SowJDay,SowDateMeans.HI,'o',markersize=12)\n",
    "myFmt = mdates.DateFormatter('%d-%b')\n",
    "ax.xaxis.set_major_formatter(myFmt)\n",
    "plt.xlim('2010-02-01','2010-05-01')\n",
    "ax.xaxis.set_ticks(['2010-02-01','2010-03-01','2010-04-01','2010-05-01'])\n",
    "plt.ylabel('Total Biomass (t/ha)',fontsize=22)\n",
    "plt.xlabel('Sowing date',fontsize=22)\n",
    "plt.tick_params(labelsize=18)\n",
    "#ax.yaxis.set_ticklabels([22,24,26,28,30,32,34])"
   ]
  },
  {
   "cell_type": "markdown",
   "metadata": {},
   "source": [
    "## Extract a subset of mean data and export"
   ]
  },
  {
   "cell_type": "code",
   "execution_count": null,
   "metadata": {},
   "outputs": [],
   "source": [
    "pd.set_option(\"display.max_columns\",101)"
   ]
  },
  {
   "cell_type": "code",
   "execution_count": null,
   "metadata": {
    "scrolled": true
   },
   "outputs": [],
   "source": [
    "FloweringFilter = IndexedData.loc[:,'ApproxGS']=='Flowering'"
   ]
  },
  {
   "cell_type": "code",
   "execution_count": null,
   "metadata": {
    "scrolled": true
   },
   "outputs": [],
   "source": [
    "#List variables to export\n",
    "Vars = ['Location',\n",
    "        'SampleDate',\n",
    "        'TrialCode',\n",
    "        'TrtNum',\n",
    "        'NumLigules',\n",
    "        'I/Io',\n",
    "        'ReassessmentGS',\n",
    "        'TotalBiomass',\n",
    "        'Grain0Percent',\n",
    "        'StemBiomass',\n",
    "        'EarBiomass',\n",
    "        'ChaffBiomass',\n",
    "        'TotalLeafBiomass',\n",
    "        'GreenLeafBiomass',\n",
    "        'DeadLeafBiomass',\n",
    "        'GrainsMSq',\n",
    "        'StemsMSq',\n",
    "        '1000GrainWt0Pc']\n",
    "\n",
    "#Extrat these into a data frame and set sample date into the index\n",
    "BaseData = IndexedData.loc[:,Vars].set_index(['SampleDate','TrialCode','TrtNum','Location'],append=True)\n",
    "\n",
    "#Get rid of non-numeric values\n",
    "for Col in BaseData.columns:\n",
    "    BaseData.loc[:,Col] = pd.to_numeric(BaseData.loc[:,Col])\n",
    "\n",
    "#Group data to give means\n",
    "ExportData = BaseData.groupby(level=['Location',\n",
    "                                     'TrtNum',\n",
    "                                     'YearSown',\n",
    "                                       'SowingDate',\n",
    "                                       'Cultivar',\n",
    "                                       'PlantPopn',\n",
    "                                       'PGRCanopyMgmtTrt',\n",
    "                                       'SampleDate']).mean().dropna(how='all')\n"
   ]
  },
  {
   "cell_type": "code",
   "execution_count": null,
   "metadata": {},
   "outputs": [],
   "source": [
    "def setTreatment(x):\n",
    "    Year = ExportData.index.get_level_values(2)[x]\n",
    "        if Year in [2013,2014]:\n",
    "        treat = 'Popn' + str(ExportData.index.get_level_values(5)[x])\n",
    "    else:\n",
    "        treat = 'Cm' + str(ExportData.index.get_level_values(6)[x])\n",
    "    return treat\n",
    "    "
   ]
  },
  {
   "cell_type": "code",
   "execution_count": null,
   "metadata": {},
   "outputs": [],
   "source": [
    "ExportData.loc[:,'Experiment'] = [ExportData.index.get_level_values(0)[x]+str(ExportData.index.get_level_values(2)[x]) for x in range(ExportData.index.size)]\n",
    "ExportData.loc[:,'ExpSD'] = [ExportData.iloc[x,:].loc['Experiment'] +'Sow'+ ExportData.index.get_level_values(3)[x].strftime('%d-%b') for x in range(ExportData.index.size)]\n",
    "ExportData.loc[:,'SimulationName'] = [ExportData.iloc[x,:].loc['ExpSD'] + setTreatment(x) for x in range(ExportData.index.size)]\n",
    "ExportData.set_index('SimulationName',drop=False,append=True,inplace=True)\n",
    "ExportData.index = ExportData.index.droplevel(level=[0,1,2,3,4,5,6])\n",
    "ExportData.index = ExportData.index.swaplevel('SimulationName','SampleDate')\n",
    "ExportData = ExportData.loc[:,ExportData.columns.drop(['Experiment','ExpSD','SimulationName'])]\n",
    "ExportData.index.names=['SimulationName','Clock.Today']"
   ]
  },
  {
   "cell_type": "code",
   "execution_count": null,
   "metadata": {},
   "outputs": [],
   "source": [
    "APSIMLabels = ['Wheat.Leaf.ExpandedCohortNo',\n",
    " 'Wheat.Leaf.CoverGreen','Wheat.Phenology.Zadok.Stage','Wheat.AboveGround.Wt',\n",
    " 'Wheat.Grain.Wt','Wheat.Stem.Wt','Wheat.Ear.Wt','Wheat.Spike.Wt',\n",
    " 'Wheat.Leaf.Wt','Wheat.Leaf.Live.Wt','Wheat.Leaf.Dead.Wt',\n",
    " 'Wheat.Grain.Number','Wheat.Structure.TotalStemPopn','Wheat.Grain.Size']"
   ]
  },
  {
   "cell_type": "code",
   "execution_count": null,
   "metadata": {},
   "outputs": [],
   "source": [
    "ExportData.columns = APSIMLabels"
   ]
  },
  {
   "cell_type": "code",
   "execution_count": null,
   "metadata": {},
   "outputs": [],
   "source": [
    "def HarvestMarker(x):\n",
    "    if np.isnan(ExportData.iloc[x,:]['Wheat.Grain.Wt']):\n",
    "        return ''\n",
    "    else:\n",
    "        return 'HarvestRipe'"
   ]
  },
  {
   "cell_type": "code",
   "execution_count": null,
   "metadata": {},
   "outputs": [],
   "source": [
    "ExportData.loc[:,'Wheat.Phenology.CurrentStageName'] = [HarvestMarker(x) for x in range(ExportData.index.size)]"
   ]
  },
  {
   "cell_type": "code",
   "execution_count": null,
   "metadata": {},
   "outputs": [],
   "source": [
    "#Copy colum headers in from excel master observed file\n",
    "ObsIndex = [u'Wheat.SowingData.Cultivar', u'ET', u'ProfileWater',\n",
    "       u'Soil.SoilWater.SW(1)', u'Soil.SoilWater.SW(2)',\n",
    "       u'Soil.SoilWater.SW(3)', u'Soil.SoilWater.SW(4)',\n",
    "       u'Soil.SoilWater.SW(5)', u'Soil.SoilWater.SW(6)',\n",
    "       u'Soil.SoilWater.SW(7)', u'Soil.SoilWater.SW(8)',\n",
    "       u'Soil.SoilWater.SW(9)', u'Soil.SoilWater.SW(10)', u'TillerNo',\n",
    "       u'Wheat.AboveGround.N', u'Wheat.AboveGround.Wt', u'Wheat.Ear.Wt',\n",
    "       u'Wheat.Ear.Nconc', u'Wheat.Ear.N', u'Wheat.Grain.NConc',\n",
    "       u'Wheat.Grain.Size', u'Wheat.Grain.N', u'Wheat.Grain.Number',\n",
    "       u'Wheat.Grain.Protein', u'Wheat.Grain.Wt',\n",
    "       u'Wheat.Structure.LeafTipsAppeared', u'Wheat.Leaf.CoverTotal',\n",
    "       u'Wheat.Leaf.CoverGreen', u'Wheat.Leaf.Dead.NConc',\n",
    "       u'Wheat.Leaf.Dead.N', u'Wheat.Leaf.Dead.Wt', u'Wheat.Leaf.DeadCohortNo',\n",
    "       u'Wheat.Leaf.ExpandedCohortNo', u'Wheat.Leaf.LAI',\n",
    "       u'Wheat.Leaf.Live.NConc', u'Wheat.Leaf.Live.N', u'Wheat.Leaf.Live.Wt',\n",
    "       u'Wheat.Leaf.NonStructural.Wt', u'Wheat.Leaf.Wt',\n",
    "       u'Wheat.Leaf.SpecificArea', u'Wheat.Phenology.CurrentStageName',\n",
    "       u'Wheat.Phenology.FlagLeafDAS.Value()',\n",
    "       u'Wheat.Phenology.FloweringDAS.Value()',\n",
    "       u'Wheat.Phenology.ReadyForHarvestDAS.Value()',\n",
    "       u'Wheat.Phenology.Zadok.Stage', u'Wheat.Population', u'Wheat.Spike.N',\n",
    "       u'Wheat.Spike.NonStructural.Wt', u'Wheat.Spike.Wt',\n",
    "       u'Wheat.Spike.NConc', u'Wheat.Stem.NConc', u'Wheat.Stem.N',\n",
    "       u'Wheat.Stem.NonStructural.Wt', u'Wheat.Stem.Wt',\n",
    "       u'Wheat.Structure.TotalStemPopn', u'Wheat.Structure.HaunStage.Value()',\n",
    "       u'Wheat.Leaf.CohortMaxSize(1)', u'Wheat.Leaf.CohortMaxSize(2)',\n",
    "       u'Wheat.Leaf.CohortMaxSize(3)', u'Wheat.Leaf.CohortMaxSize(4)',\n",
    "       u'Wheat.Leaf.CohortMaxSize(5)', u'Wheat.Leaf.CohortMaxSize(6)',\n",
    "       u'Wheat.Leaf.CohortMaxSize(7)', u'Wheat.Leaf.CohortMaxSize(8)',\n",
    "       u'Wheat.Leaf.CohortMaxSize(9)', u'Wheat.Leaf.CohortMaxSize(10)',\n",
    "       u'Wheat.Leaf.CohortMaxSize(11)', u'Wheat.Leaf.CohortMaxSize(12)',\n",
    "       u'Wheat.Leaf.CohortMaxSize(13)', u'Wheat.Leaf.CohortMaxSize(14)',\n",
    "       u'Wheat.Leaf.CohortMaxSize(15)', u'Wheat.Leaf.CohortMaxSize(16)',\n",
    "       u'Wheat.Leaf.CohortMaxSize(17)', u'Wheat.Leaf.CohortMaxSize(18)',\n",
    "       u'TopSoilWater']"
   ]
  },
  {
   "cell_type": "code",
   "execution_count": null,
   "metadata": {},
   "outputs": [],
   "source": [
    "ExportData = ExportData.loc[:,ObsIndex]"
   ]
  },
  {
   "cell_type": "code",
   "execution_count": null,
   "metadata": {},
   "outputs": [],
   "source": [
    "# Remember to change the destination file!!!\n",
    "ExportData.to_excel('K:\\CPDiary\\Data\\FAR 20by2020\\BiomassData.xlsx',sheet_name='BiomassData',merge_cells=False)"
   ]
  }
 ],
 "metadata": {
  "kernelspec": {
   "display_name": "Python 3",
   "language": "python",
   "name": "python3"
  },
  "language_info": {
   "codemirror_mode": {
    "name": "ipython",
    "version": 3
   },
   "file_extension": ".py",
   "mimetype": "text/x-python",
   "name": "python",
   "nbconvert_exporter": "python",
   "pygments_lexer": "ipython3",
   "version": "3.6.8"
  }
 },
 "nbformat": 4,
 "nbformat_minor": 4
}
